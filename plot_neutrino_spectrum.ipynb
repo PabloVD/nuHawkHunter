{
 "cells": [
  {
   "cell_type": "markdown",
   "metadata": {},
   "source": [
    "# PBH neutrino spectrum rate\n",
    "\n",
    "Plot the primary and secondary neutrino spectrum rate"
   ]
  },
  {
   "cell_type": "code",
   "execution_count": 2,
   "metadata": {},
   "outputs": [
    {
     "ename": "OSError",
     "evalue": "BlackHawkData/1.0e+13/instantaneous_primary_spectra_mc.txt not found.",
     "output_type": "error",
     "traceback": [
      "\u001b[0;31m---------------------------------------------------------------------------\u001b[0m",
      "\u001b[0;31mOSError\u001b[0m                                   Traceback (most recent call last)",
      "\u001b[0;32m<ipython-input-2-e4acdb64fe31>\u001b[0m in \u001b[0;36m<module>\u001b[0;34m\u001b[0m\n\u001b[1;32m     14\u001b[0m     \u001b[0mfolder\u001b[0m \u001b[0;34m=\u001b[0m \u001b[0;34m\"BlackHawkData/\"\u001b[0m \u001b[0;34m+\u001b[0m \u001b[0mdata_folder\u001b[0m \u001b[0;34m+\u001b[0m \u001b[0;34m\"/\"\u001b[0m\u001b[0;34m\u001b[0m\u001b[0;34m\u001b[0m\u001b[0m\n\u001b[1;32m     15\u001b[0m \u001b[0;34m\u001b[0m\u001b[0m\n\u001b[0;32m---> 16\u001b[0;31m     \u001b[0mdata_primary\u001b[0m \u001b[0;34m=\u001b[0m \u001b[0mnp\u001b[0m\u001b[0;34m.\u001b[0m\u001b[0mgenfromtxt\u001b[0m\u001b[0;34m(\u001b[0m\u001b[0mfolder\u001b[0m\u001b[0;34m+\u001b[0m\u001b[0;34m\"instantaneous_primary_spectra_mc.txt\"\u001b[0m\u001b[0;34m,\u001b[0m\u001b[0mskip_header\u001b[0m \u001b[0;34m=\u001b[0m \u001b[0;36m2\u001b[0m\u001b[0;34m)\u001b[0m\u001b[0;34m\u001b[0m\u001b[0;34m\u001b[0m\u001b[0m\n\u001b[0m\u001b[1;32m     17\u001b[0m     \u001b[0mdata_secondary\u001b[0m \u001b[0;34m=\u001b[0m \u001b[0mnp\u001b[0m\u001b[0;34m.\u001b[0m\u001b[0mgenfromtxt\u001b[0m\u001b[0;34m(\u001b[0m\u001b[0mfolder\u001b[0m\u001b[0;34m+\u001b[0m\u001b[0;34m\"instantaneous_secondary_spectra_mc.txt\"\u001b[0m\u001b[0;34m,\u001b[0m\u001b[0mskip_header\u001b[0m \u001b[0;34m=\u001b[0m \u001b[0;36m2\u001b[0m\u001b[0;34m)\u001b[0m\u001b[0;34m\u001b[0m\u001b[0;34m\u001b[0m\u001b[0m\n\u001b[1;32m     18\u001b[0m \u001b[0;34m\u001b[0m\u001b[0m\n",
      "\u001b[0;32m/usr/local/lib/python3.8/site-packages/numpy/lib/npyio.py\u001b[0m in \u001b[0;36mgenfromtxt\u001b[0;34m(fname, dtype, comments, delimiter, skip_header, skip_footer, converters, missing_values, filling_values, usecols, names, excludelist, deletechars, replace_space, autostrip, case_sensitive, defaultfmt, unpack, usemask, loose, invalid_raise, max_rows, encoding)\u001b[0m\n\u001b[1;32m   1747\u001b[0m             \u001b[0mfname\u001b[0m \u001b[0;34m=\u001b[0m \u001b[0mos_fspath\u001b[0m\u001b[0;34m(\u001b[0m\u001b[0mfname\u001b[0m\u001b[0;34m)\u001b[0m\u001b[0;34m\u001b[0m\u001b[0;34m\u001b[0m\u001b[0m\n\u001b[1;32m   1748\u001b[0m         \u001b[0;32mif\u001b[0m \u001b[0misinstance\u001b[0m\u001b[0;34m(\u001b[0m\u001b[0mfname\u001b[0m\u001b[0;34m,\u001b[0m \u001b[0mstr\u001b[0m\u001b[0;34m)\u001b[0m\u001b[0;34m:\u001b[0m\u001b[0;34m\u001b[0m\u001b[0;34m\u001b[0m\u001b[0m\n\u001b[0;32m-> 1749\u001b[0;31m             \u001b[0mfid\u001b[0m \u001b[0;34m=\u001b[0m \u001b[0mnp\u001b[0m\u001b[0;34m.\u001b[0m\u001b[0mlib\u001b[0m\u001b[0;34m.\u001b[0m\u001b[0m_datasource\u001b[0m\u001b[0;34m.\u001b[0m\u001b[0mopen\u001b[0m\u001b[0;34m(\u001b[0m\u001b[0mfname\u001b[0m\u001b[0;34m,\u001b[0m \u001b[0;34m'rt'\u001b[0m\u001b[0;34m,\u001b[0m \u001b[0mencoding\u001b[0m\u001b[0;34m=\u001b[0m\u001b[0mencoding\u001b[0m\u001b[0;34m)\u001b[0m\u001b[0;34m\u001b[0m\u001b[0;34m\u001b[0m\u001b[0m\n\u001b[0m\u001b[1;32m   1750\u001b[0m             \u001b[0mfid_ctx\u001b[0m \u001b[0;34m=\u001b[0m \u001b[0mcontextlib\u001b[0m\u001b[0;34m.\u001b[0m\u001b[0mclosing\u001b[0m\u001b[0;34m(\u001b[0m\u001b[0mfid\u001b[0m\u001b[0;34m)\u001b[0m\u001b[0;34m\u001b[0m\u001b[0;34m\u001b[0m\u001b[0m\n\u001b[1;32m   1751\u001b[0m         \u001b[0;32melse\u001b[0m\u001b[0;34m:\u001b[0m\u001b[0;34m\u001b[0m\u001b[0;34m\u001b[0m\u001b[0m\n",
      "\u001b[0;32m/usr/local/lib/python3.8/site-packages/numpy/lib/_datasource.py\u001b[0m in \u001b[0;36mopen\u001b[0;34m(path, mode, destpath, encoding, newline)\u001b[0m\n\u001b[1;32m    193\u001b[0m \u001b[0;34m\u001b[0m\u001b[0m\n\u001b[1;32m    194\u001b[0m     \u001b[0mds\u001b[0m \u001b[0;34m=\u001b[0m \u001b[0mDataSource\u001b[0m\u001b[0;34m(\u001b[0m\u001b[0mdestpath\u001b[0m\u001b[0;34m)\u001b[0m\u001b[0;34m\u001b[0m\u001b[0;34m\u001b[0m\u001b[0m\n\u001b[0;32m--> 195\u001b[0;31m     \u001b[0;32mreturn\u001b[0m \u001b[0mds\u001b[0m\u001b[0;34m.\u001b[0m\u001b[0mopen\u001b[0m\u001b[0;34m(\u001b[0m\u001b[0mpath\u001b[0m\u001b[0;34m,\u001b[0m \u001b[0mmode\u001b[0m\u001b[0;34m,\u001b[0m \u001b[0mencoding\u001b[0m\u001b[0;34m=\u001b[0m\u001b[0mencoding\u001b[0m\u001b[0;34m,\u001b[0m \u001b[0mnewline\u001b[0m\u001b[0;34m=\u001b[0m\u001b[0mnewline\u001b[0m\u001b[0;34m)\u001b[0m\u001b[0;34m\u001b[0m\u001b[0;34m\u001b[0m\u001b[0m\n\u001b[0m\u001b[1;32m    196\u001b[0m \u001b[0;34m\u001b[0m\u001b[0m\n\u001b[1;32m    197\u001b[0m \u001b[0;34m\u001b[0m\u001b[0m\n",
      "\u001b[0;32m/usr/local/lib/python3.8/site-packages/numpy/lib/_datasource.py\u001b[0m in \u001b[0;36mopen\u001b[0;34m(self, path, mode, encoding, newline)\u001b[0m\n\u001b[1;32m    533\u001b[0m                                       encoding=encoding, newline=newline)\n\u001b[1;32m    534\u001b[0m         \u001b[0;32melse\u001b[0m\u001b[0;34m:\u001b[0m\u001b[0;34m\u001b[0m\u001b[0;34m\u001b[0m\u001b[0m\n\u001b[0;32m--> 535\u001b[0;31m             \u001b[0;32mraise\u001b[0m \u001b[0mIOError\u001b[0m\u001b[0;34m(\u001b[0m\u001b[0;34m\"%s not found.\"\u001b[0m \u001b[0;34m%\u001b[0m \u001b[0mpath\u001b[0m\u001b[0;34m)\u001b[0m\u001b[0;34m\u001b[0m\u001b[0;34m\u001b[0m\u001b[0m\n\u001b[0m\u001b[1;32m    536\u001b[0m \u001b[0;34m\u001b[0m\u001b[0m\n\u001b[1;32m    537\u001b[0m \u001b[0;34m\u001b[0m\u001b[0m\n",
      "\u001b[0;31mOSError\u001b[0m: BlackHawkData/1.0e+13/instantaneous_primary_spectra_mc.txt not found."
     ]
    }
   ],
   "source": [
    "from Source.constants import *\n",
    "\n",
    "# PBH masses\n",
    "Mpbhs = [1.e13, 1.e14, 1.e15]\n",
    "cols = [\"r\", \"b\", \"g\", \"m\", \"y\"]\n",
    "\n",
    "# 1 for plotting only nu_e, 0 for the sum of the three flavours\n",
    "only_nue = 1\n",
    "\n",
    "for mm, Mpbh in enumerate(Mpbhs):\n",
    "\n",
    "    # Data folder\n",
    "    data_folder = \"{:.1e}\".format(Mpbh)\n",
    "    folder = \"BlackHawkData/\" + data_folder + \"/\"\n",
    "\n",
    "    data_primary = np.genfromtxt(folder+\"instantaneous_primary_spectra_mc.txt\",skip_header = 2)\n",
    "    data_secondary = np.genfromtxt(folder+\"instantaneous_secondary_spectra_mc.txt\",skip_header = 2)\n",
    "\n",
    "    if only_nue:\n",
    "        # Plot only electron neutrino\n",
    "        tot_sec = data_secondary[:,3]\n",
    "        tot_prim = data_primary[:,6]/3.\n",
    "    else:\n",
    "        # Plot sum of three neutrinos\n",
    "        tot_sec = 0.\n",
    "        # Sum over three neutrino species\n",
    "        for i in [3,4,5]:   \n",
    "            tot_sec += data_secondary[:,i]\n",
    "        tot_prim = data_primary[:,6]\n",
    "\n",
    "\n",
    "    Esec = data_secondary[:,0]*1.e3 # in MeV\n",
    "    Eprim = data_primary[:,0]*1.e3\n",
    "    intsec = interp1d(Esec, tot_sec/1.e3, fill_value=\"extrapolate\")     # in MeV\n",
    "    intprim = interp1d(Eprim, tot_prim/1.e3,fill_value=\"extrapolate\")     # in MeV\n",
    "\n",
    "    plt.loglog(Esec,intprim(Esec),linestyle=\":\",linewidth = 2, color=cols[mm])\n",
    "    plt.loglog(Esec,intsec(Esec)-intprim(Esec), linestyle=\"--\",linewidth = 2, color=cols[mm])\n",
    "    plt.loglog(Esec,intsec(Esec), linestyle=\"-\",linewidth = 2, color=cols[mm])\n",
    "\n",
    "# Figure legend\n",
    "customlegend = []\n",
    "for n, Mpbh in enumerate(Mpbhs):\n",
    "    customlegend.append( Line2D([0], [0], color=cols[n], lw=4, label = r\"$M_{\\rm PBH}=$\"+scinot(Mpbh)+\" g\"))\n",
    "\n",
    "customlegend.append( Line2D([0], [0], color=\"black\", linestyle=\":\", label=\"Primary\"))\n",
    "customlegend.append( Line2D([0], [0], color=\"black\", linestyle=\"--\", label=\"Secondary\"))\n",
    "customlegend.append( Line2D([0], [0], color=\"black\", linestyle=\"-\", label=\"Total\"))\n",
    "\n",
    "plt.ylim(1.e16,1.e23)\n",
    "plt.xlim(1.e0,1.e5)\n",
    "plt.xlabel('$E{\\\\rm \\,\\, [MeV]}$')\n",
    "plt.ylabel(r'$\\frac{dN}{dE dt} \\,\\, [{\\rm MeV}^{-1}{\\rm s}^{-1}]$')\n",
    "plt.tick_params(axis='both', which='both', top=True, right=True, direction=\"in\")\n",
    "plt.grid()\n",
    "plt.legend(handles=customlegend)\n",
    "plt.savefig(\"figures/neutrino_spectra_blackhawk.png\", bbox_inches='tight', dpi=300)\n",
    "plt.show()"
   ]
  },
  {
   "cell_type": "code",
   "execution_count": null,
   "metadata": {},
   "outputs": [],
   "source": [
    "from Source.flux_stuff import *\n",
    "\n",
    "#Mpbhs = np.logspace(np.log10(5.e14), np.log10(8.e15), 15)[:3]\n",
    "#Mpbhs = np.logspace(np.log10(5.e14), np.log10(1.e15), 5)\n",
    "Mpbhs = 1.e14*np.linspace(5., 10., 6)\n",
    "\n",
    "compute_flux(Mpbhs, True)\n",
    "plt.ylim(1e13, 1e25)\n",
    "plt.legend()"
   ]
  },
  {
   "cell_type": "code",
   "execution_count": null,
   "metadata": {},
   "outputs": [],
   "source": []
  }
 ],
 "metadata": {
  "kernelspec": {
   "display_name": "Python 3",
   "language": "python",
   "name": "python3"
  },
  "language_info": {
   "codemirror_mode": {
    "name": "ipython",
    "version": 3
   },
   "file_extension": ".py",
   "mimetype": "text/x-python",
   "name": "python",
   "nbconvert_exporter": "python",
   "pygments_lexer": "ipython3",
   "version": "3.8.3"
  }
 },
 "nbformat": 4,
 "nbformat_minor": 4
}
