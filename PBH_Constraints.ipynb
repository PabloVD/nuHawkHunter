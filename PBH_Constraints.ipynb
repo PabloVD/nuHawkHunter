{
 "cells": [
  {
   "cell_type": "markdown",
   "metadata": {},
   "source": [
    "# Constraints on the PBH abundance\n",
    "\n",
    "Compute the forecasted bounds on the PBH abundance for several future experiments"
   ]
  },
  {
   "cell_type": "code",
   "execution_count": 1,
   "metadata": {},
   "outputs": [],
   "source": [
    "from Source.chi2 import *\n",
    "\n",
    "# Bounds on the PBH abundance from other probes (write elsewhere, and check if it is at 90 CL)\n",
    "\n",
    "# Gamma ray PBH bound, for f_pbh, from Carr et al 2020\n",
    "def boundgamma_DM(M):\n",
    "    ep = 0.2\n",
    "    return 2.e-8*(M/5e14)**(3+ep)\n",
    "\n",
    "# Gamma ray PBH bound, for beta', from Carr et al 2020\n",
    "def boundgamma_evap(M):\n",
    "    ep = 0.2\n",
    "    return 3.e-27*(M/5e14)**(-5./2.-2.*ep)\n",
    "\n",
    "# Bound from CMB anisotropies, for beta', from Carr et al 2020\n",
    "def boundcmb_ani(M):\n",
    "    if M>=2.5e13 and M<= 2.4e14:\n",
    "        return 3.e-30*(M/1e13)**(3.1)\n",
    "    else:\n",
    "        return None\n",
    "\n",
    "boundcmb_ani = np.vectorize(boundcmb_ani)\n",
    "\n",
    "# Bound from BBN, for beta', from Carr et al 2020\n",
    "mBBN, betaBBN = np.loadtxt(\"data/BBNbounds.txt\", unpack=True, delimiter=\";\")\n",
    "logboundBBN = interp1d(np.log10(mBBN), np.log10(betaBBN), fill_value=\"extrapolate\")\n",
    "boundBBN = lambda logM: 10.**(logboundBBN(np.log10(logM)))\n",
    "\n",
    "def plot_pbh_bounds(Mpbhs, fpbhs, is_DM, mass_spec = 0, sig = 0):\n",
    "\n",
    "    exps = [\"HK\", \"JUNO\", \"DUNE\", \"DARWIN\", \"ARGO\"]\n",
    "    cols = [\"r\", \"orange\", \"g\", \"yellow\", \"cyan\"]\n",
    "\n",
    "    #exps = [\"HK\", \"JUNO\", \"DUNE\"]\n",
    "    #cols = [\"r\", \"orange\", \"g\"]\n",
    "\n",
    "    # Compute fluxes (comment if already computed)\n",
    "    #compute_flux(Mpbhs, is_DM, mass_spec, sig)  # fpbhs not used here actually\n",
    "\n",
    "    fig, ax = plt.subplots(figsize=(9,6))\n",
    "\n",
    "    # Compute the bound for each experiment considered\n",
    "    for ie, exp in enumerate(exps):\n",
    "        print(exp)\n",
    "\n",
    "        # Compute event rate\n",
    "        compute_events(Mpbhs, fpbhs, exp, is_DM, mass_spec, sig)  # fpbhs not used here actually\n",
    "\n",
    "        fpbh_bounds = pbh_bounds_chi2(Mpbhs, fpbhs, exp, is_DM, mass_spec, sig)\n",
    "        \n",
    "        if is_DM:\n",
    "            plt.plot(Mpbhs, fpbh_bounds, color=cols[ie],linestyle='-',linewidth=3, label=exps[ie])\n",
    "        else:\n",
    "            plt.plot(Mpbhs, fpbh_bounds, color=cols[ie],linestyle='-',linewidth=3, label=exps[ie])\n",
    "       \n",
    "    if is_DM:\n",
    "        \n",
    "        # SK bound, from complete analysis\n",
    "        mSK, foo1, boundSK = np.loadtxt(\"data/SignalCLSK_mc_DM.dat\", unpack=True)\n",
    "        plt.plot(mSK, boundSK, color=\"b\", linestyle=\"--\", lw=4, label=r\"SK\")\n",
    "\n",
    "        # EGRB bound\n",
    "        plt.plot(Mpbhs, boundgamma_DM(Mpbhs), color=\"m\", linestyle=\"--\", lw=4, label=r\"$\\gamma$ rays\")\n",
    "        \n",
    "    else:\n",
    "        \n",
    "        # SK bound, from complete analysis\n",
    "        mSK, foo1, boundSK = np.loadtxt(\"data/SignalCLSK_mc_evap.dat\", unpack=True)\n",
    "        plt.plot(mSK, boundSK, color=\"b\", linestyle=\"--\", lw=4, label=r\"SK\")\n",
    "        \n",
    "        # EGRB + BBN bounds\n",
    "        plt.plot(Mpbhs, np.min([boundBBN(Mpbhs),boundgamma_evap(Mpbhs)],axis=0), color=\"m\", linestyle=\"--\", lw=4, label=r\"$\\gamma$ rays + BBN\")\n",
    "\n",
    "        \n",
    "    if is_DM:\n",
    "        plt.ylabel(r'$  f_{\\rm PBH} $')\n",
    "        plt.xlabel(r'$ M_{\\rm PBH} $'+' [g]')\n",
    "        plt.xlim(Mpbhs[0], Mpbhs[-1])\n",
    "        plt.xscale(\"log\")\n",
    "        sufix = \"DM\"\n",
    "        #plt.xscale(\"log\")\n",
    "    else:\n",
    "        plt.ylabel(r\"$  \\beta' $\")\n",
    "        plt.xlabel(r'$ M_{\\rm PBH} $'+' [g]')\n",
    "        plt.xlim(Mpbhs[0], Mpbhs[-1])\n",
    "        sufix = \"evaporated\"\n",
    "        plt.xscale(\"log\")\n",
    "        \n",
    "    if mass_spec==0:\n",
    "        sufix += \"_mc\"\n",
    "    elif mass_spec==1:\n",
    "        sufix += \"_ln_sig_{:.1e}\".format(sig)\n",
    "\n",
    "    plt.legend()#loc='lower right',frameon=False)\n",
    "    plt.ylim(fpbhs[0], fpbhs[-1])\n",
    "    plt.yscale(\"log\")\n",
    "    plt.tick_params(axis='both', which='both', top=True, right=True, direction=\"in\")\n",
    "    plt.grid(which=\"major\",linestyle=\":\",linewidth=1)\n",
    "\n",
    "    plt.tight_layout()\n",
    "    plt.savefig(\"figures/PBH_bounds_\"+sufix+\".png\", bbox_inches='tight', dpi=300)\n",
    "    plt.show()\n"
   ]
  },
  {
   "cell_type": "markdown",
   "metadata": {},
   "source": [
    "## Compute bounds on the abundance of PBHs as Dark Matter"
   ]
  },
  {
   "cell_type": "code",
   "execution_count": 2,
   "metadata": {},
   "outputs": [
    {
     "name": "stdout",
     "output_type": "stream",
     "text": [
      "HK\n"
     ]
    },
    {
     "name": "stderr",
     "output_type": "stream",
     "text": [
      "/usr/local/lib/python3.8/site-packages/scipy/optimize/minpack.py:175: RuntimeWarning: The iteration is not making good progress, as measured by the \n",
      "  improvement from the last ten iterations.\n",
      "  warnings.warn(msg, RuntimeWarning)\n"
     ]
    },
    {
     "name": "stdout",
     "output_type": "stream",
     "text": [
      "JUNO\n"
     ]
    },
    {
     "name": "stderr",
     "output_type": "stream",
     "text": [
      "/usr/local/lib/python3.8/site-packages/scipy/optimize/minpack.py:175: RuntimeWarning: The iteration is not making good progress, as measured by the \n",
      "  improvement from the last ten iterations.\n",
      "  warnings.warn(msg, RuntimeWarning)\n"
     ]
    },
    {
     "name": "stdout",
     "output_type": "stream",
     "text": [
      "DUNE\n"
     ]
    },
    {
     "name": "stderr",
     "output_type": "stream",
     "text": [
      "/usr/local/lib/python3.8/site-packages/scipy/optimize/minpack.py:175: RuntimeWarning: The iteration is not making good progress, as measured by the \n",
      "  improvement from the last ten iterations.\n",
      "  warnings.warn(msg, RuntimeWarning)\n"
     ]
    },
    {
     "name": "stdout",
     "output_type": "stream",
     "text": [
      "DARWIN\n"
     ]
    },
    {
     "ename": "ValueError",
     "evalue": "The truth value of an array with more than one element is ambiguous. Use a.any() or a.all()",
     "output_type": "error",
     "traceback": [
      "\u001b[0;31m---------------------------------------------------------------------------\u001b[0m",
      "\u001b[0;31mValueError\u001b[0m                                Traceback (most recent call last)",
      "\u001b[0;32m<ipython-input-2-97b3a8ff3989>\u001b[0m in \u001b[0;36m<module>\u001b[0;34m\u001b[0m\n\u001b[1;32m      3\u001b[0m \u001b[0mfpbhs\u001b[0m \u001b[0;34m=\u001b[0m \u001b[0mnp\u001b[0m\u001b[0;34m.\u001b[0m\u001b[0mlogspace\u001b[0m\u001b[0;34m(\u001b[0m\u001b[0;34m-\u001b[0m\u001b[0;36m6\u001b[0m\u001b[0;34m,\u001b[0m \u001b[0;36m0\u001b[0m\u001b[0;34m,\u001b[0m \u001b[0;36m20\u001b[0m\u001b[0;34m)\u001b[0m\u001b[0;34m\u001b[0m\u001b[0;34m\u001b[0m\u001b[0m\n\u001b[1;32m      4\u001b[0m \u001b[0;34m\u001b[0m\u001b[0m\n\u001b[0;32m----> 5\u001b[0;31m \u001b[0mplot_pbh_bounds\u001b[0m\u001b[0;34m(\u001b[0m\u001b[0mMpbhs\u001b[0m\u001b[0;34m,\u001b[0m \u001b[0mfpbhs\u001b[0m\u001b[0;34m,\u001b[0m \u001b[0mis_DM\u001b[0m\u001b[0;34m=\u001b[0m\u001b[0;36m1\u001b[0m\u001b[0;34m)\u001b[0m\u001b[0;34m\u001b[0m\u001b[0;34m\u001b[0m\u001b[0m\n\u001b[0m",
      "\u001b[0;32m<ipython-input-1-1b81c8ffae13>\u001b[0m in \u001b[0;36mplot_pbh_bounds\u001b[0;34m(Mpbhs, fpbhs, is_DM, mass_spec, sig)\u001b[0m\n\u001b[1;32m     45\u001b[0m \u001b[0;34m\u001b[0m\u001b[0m\n\u001b[1;32m     46\u001b[0m         \u001b[0;31m# Compute event rate\u001b[0m\u001b[0;34m\u001b[0m\u001b[0;34m\u001b[0m\u001b[0;34m\u001b[0m\u001b[0m\n\u001b[0;32m---> 47\u001b[0;31m         \u001b[0mcompute_events\u001b[0m\u001b[0;34m(\u001b[0m\u001b[0mMpbhs\u001b[0m\u001b[0;34m,\u001b[0m \u001b[0mfpbhs\u001b[0m\u001b[0;34m,\u001b[0m \u001b[0mexp\u001b[0m\u001b[0;34m,\u001b[0m \u001b[0mis_DM\u001b[0m\u001b[0;34m,\u001b[0m \u001b[0mmass_spec\u001b[0m\u001b[0;34m,\u001b[0m \u001b[0msig\u001b[0m\u001b[0;34m)\u001b[0m  \u001b[0;31m# fpbhs not used here actually\u001b[0m\u001b[0;34m\u001b[0m\u001b[0;34m\u001b[0m\u001b[0m\n\u001b[0m\u001b[1;32m     48\u001b[0m \u001b[0;34m\u001b[0m\u001b[0m\n\u001b[1;32m     49\u001b[0m         \u001b[0mfpbh_bounds\u001b[0m \u001b[0;34m=\u001b[0m \u001b[0mpbh_bounds_chi2\u001b[0m\u001b[0;34m(\u001b[0m\u001b[0mMpbhs\u001b[0m\u001b[0;34m,\u001b[0m \u001b[0mfpbhs\u001b[0m\u001b[0;34m,\u001b[0m \u001b[0mexp\u001b[0m\u001b[0;34m,\u001b[0m \u001b[0mis_DM\u001b[0m\u001b[0;34m,\u001b[0m \u001b[0mmass_spec\u001b[0m\u001b[0;34m,\u001b[0m \u001b[0msig\u001b[0m\u001b[0;34m)\u001b[0m\u001b[0;34m\u001b[0m\u001b[0;34m\u001b[0m\u001b[0m\n",
      "\u001b[0;32m~/Downloads/NeutrinosFromPBHs/nuHawk_github/Source/event_rate.py\u001b[0m in \u001b[0;36mcompute_events\u001b[0;34m(Mpbhs, fpbhs, exp, as_DM, mass_spec, sig, plotevents, binevents)\u001b[0m\n\u001b[1;32m    280\u001b[0m     \u001b[0msufx\u001b[0m \u001b[0;34m=\u001b[0m \u001b[0msufix\u001b[0m\u001b[0;34m(\u001b[0m\u001b[0mmass_spec\u001b[0m\u001b[0;34m,\u001b[0m \u001b[0msig\u001b[0m\u001b[0;34m)\u001b[0m\u001b[0;34m\u001b[0m\u001b[0;34m\u001b[0m\u001b[0m\n\u001b[1;32m    281\u001b[0m \u001b[0;34m\u001b[0m\u001b[0m\n\u001b[0;32m--> 282\u001b[0;31m     \u001b[0mEobs\u001b[0m\u001b[0;34m,\u001b[0m \u001b[0meventback0\u001b[0m \u001b[0;34m=\u001b[0m \u001b[0mback_rate\u001b[0m\u001b[0;34m(\u001b[0m\u001b[0mexp\u001b[0m\u001b[0;34m)\u001b[0m\u001b[0;34m\u001b[0m\u001b[0;34m\u001b[0m\u001b[0m\n\u001b[0m\u001b[1;32m    283\u001b[0m \u001b[0;34m\u001b[0m\u001b[0m\n\u001b[1;32m    284\u001b[0m     \u001b[0;32mif\u001b[0m \u001b[0mbinevents\u001b[0m\u001b[0;34m:\u001b[0m\u001b[0;34m\u001b[0m\u001b[0;34m\u001b[0m\u001b[0m\n",
      "\u001b[0;32m~/Downloads/NeutrinosFromPBHs/nuHawk_github/Source/event_rate.py\u001b[0m in \u001b[0;36mback_rate\u001b[0;34m(exp)\u001b[0m\n\u001b[1;32m    258\u001b[0m         \u001b[0;31m#EobsCE = np.logspace(-4., -1.,200)\u001b[0m\u001b[0;34m\u001b[0m\u001b[0;34m\u001b[0m\u001b[0;34m\u001b[0m\u001b[0m\n\u001b[1;32m    259\u001b[0m         \u001b[0mEobsCE\u001b[0m \u001b[0;34m=\u001b[0m \u001b[0mnp\u001b[0m\u001b[0;34m.\u001b[0m\u001b[0mlogspace\u001b[0m\u001b[0;34m(\u001b[0m\u001b[0mnp\u001b[0m\u001b[0;34m.\u001b[0m\u001b[0mlog10\u001b[0m\u001b[0;34m(\u001b[0m\u001b[0;36m5.e-3\u001b[0m\u001b[0;34m)\u001b[0m\u001b[0;34m,\u001b[0m \u001b[0;34m-\u001b[0m\u001b[0;36m1.\u001b[0m\u001b[0;34m,\u001b[0m\u001b[0;36m100\u001b[0m\u001b[0;34m)\u001b[0m\u001b[0;34m\u001b[0m\u001b[0;34m\u001b[0m\u001b[0m\n\u001b[0;32m--> 260\u001b[0;31m         \u001b[0mbackCE\u001b[0m \u001b[0;34m=\u001b[0m \u001b[0mnp\u001b[0m\u001b[0;34m.\u001b[0m\u001b[0marray\u001b[0m\u001b[0;34m(\u001b[0m\u001b[0;34m[\u001b[0m\u001b[0mevent_rate\u001b[0m\u001b[0;34m(\u001b[0m\u001b[0mEo\u001b[0m\u001b[0;34m,\u001b[0m \u001b[0mEbackCE\u001b[0m\u001b[0;34m,\u001b[0m \u001b[0mfluxbacks\u001b[0m\u001b[0;34m,\u001b[0m \u001b[0mexp\u001b[0m\u001b[0;34m)\u001b[0m \u001b[0;32mfor\u001b[0m \u001b[0mEo\u001b[0m \u001b[0;32min\u001b[0m \u001b[0mEobsCE\u001b[0m\u001b[0;34m]\u001b[0m\u001b[0;34m)\u001b[0m\u001b[0;34m\u001b[0m\u001b[0;34m\u001b[0m\u001b[0m\n\u001b[0m\u001b[1;32m    261\u001b[0m \u001b[0;34m\u001b[0m\u001b[0m\n\u001b[1;32m    262\u001b[0m         \u001b[0;32mreturn\u001b[0m \u001b[0mEobsCE\u001b[0m\u001b[0;34m,\u001b[0m \u001b[0mbackCE\u001b[0m\u001b[0;34m*\u001b[0m\u001b[0myear_sec\u001b[0m\u001b[0;34m\u001b[0m\u001b[0;34m\u001b[0m\u001b[0m\n",
      "\u001b[0;32m~/Downloads/NeutrinosFromPBHs/nuHawk_github/Source/event_rate.py\u001b[0m in \u001b[0;36m<listcomp>\u001b[0;34m(.0)\u001b[0m\n\u001b[1;32m    258\u001b[0m         \u001b[0;31m#EobsCE = np.logspace(-4., -1.,200)\u001b[0m\u001b[0;34m\u001b[0m\u001b[0;34m\u001b[0m\u001b[0;34m\u001b[0m\u001b[0m\n\u001b[1;32m    259\u001b[0m         \u001b[0mEobsCE\u001b[0m \u001b[0;34m=\u001b[0m \u001b[0mnp\u001b[0m\u001b[0;34m.\u001b[0m\u001b[0mlogspace\u001b[0m\u001b[0;34m(\u001b[0m\u001b[0mnp\u001b[0m\u001b[0;34m.\u001b[0m\u001b[0mlog10\u001b[0m\u001b[0;34m(\u001b[0m\u001b[0;36m5.e-3\u001b[0m\u001b[0;34m)\u001b[0m\u001b[0;34m,\u001b[0m \u001b[0;34m-\u001b[0m\u001b[0;36m1.\u001b[0m\u001b[0;34m,\u001b[0m\u001b[0;36m100\u001b[0m\u001b[0;34m)\u001b[0m\u001b[0;34m\u001b[0m\u001b[0;34m\u001b[0m\u001b[0m\n\u001b[0;32m--> 260\u001b[0;31m         \u001b[0mbackCE\u001b[0m \u001b[0;34m=\u001b[0m \u001b[0mnp\u001b[0m\u001b[0;34m.\u001b[0m\u001b[0marray\u001b[0m\u001b[0;34m(\u001b[0m\u001b[0;34m[\u001b[0m\u001b[0mevent_rate\u001b[0m\u001b[0;34m(\u001b[0m\u001b[0mEo\u001b[0m\u001b[0;34m,\u001b[0m \u001b[0mEbackCE\u001b[0m\u001b[0;34m,\u001b[0m \u001b[0mfluxbacks\u001b[0m\u001b[0;34m,\u001b[0m \u001b[0mexp\u001b[0m\u001b[0;34m)\u001b[0m \u001b[0;32mfor\u001b[0m \u001b[0mEo\u001b[0m \u001b[0;32min\u001b[0m \u001b[0mEobsCE\u001b[0m\u001b[0;34m]\u001b[0m\u001b[0;34m)\u001b[0m\u001b[0;34m\u001b[0m\u001b[0;34m\u001b[0m\u001b[0m\n\u001b[0m\u001b[1;32m    261\u001b[0m \u001b[0;34m\u001b[0m\u001b[0m\n\u001b[1;32m    262\u001b[0m         \u001b[0;32mreturn\u001b[0m \u001b[0mEobsCE\u001b[0m\u001b[0;34m,\u001b[0m \u001b[0mbackCE\u001b[0m\u001b[0;34m*\u001b[0m\u001b[0myear_sec\u001b[0m\u001b[0;34m\u001b[0m\u001b[0;34m\u001b[0m\u001b[0m\n",
      "\u001b[0;32m~/Downloads/NeutrinosFromPBHs/nuHawk_github/Source/event_rate.py\u001b[0m in \u001b[0;36mevent_rate\u001b[0;34m(E_o, E_nu, flux, exp)\u001b[0m\n\u001b[1;32m    177\u001b[0m             \u001b[0mEnuvec\u001b[0m \u001b[0;34m=\u001b[0m \u001b[0mnp\u001b[0m\u001b[0;34m.\u001b[0m\u001b[0mlogspace\u001b[0m\u001b[0;34m(\u001b[0m \u001b[0mnp\u001b[0m\u001b[0;34m.\u001b[0m\u001b[0mlog10\u001b[0m\u001b[0;34m(\u001b[0m\u001b[0mE_nu_min_CE\u001b[0m\u001b[0;34m(\u001b[0m\u001b[0mE_r\u001b[0m\u001b[0;34m,\u001b[0m \u001b[0mmT\u001b[0m\u001b[0;34m)\u001b[0m\u001b[0;34m)\u001b[0m\u001b[0;34m,\u001b[0m \u001b[0mnp\u001b[0m\u001b[0;34m.\u001b[0m\u001b[0mlog10\u001b[0m\u001b[0;34m(\u001b[0m\u001b[0mE_nu\u001b[0m\u001b[0;34m[\u001b[0m\u001b[0;34m-\u001b[0m\u001b[0;36m1\u001b[0m\u001b[0;34m]\u001b[0m\u001b[0;34m)\u001b[0m\u001b[0;34m,\u001b[0m \u001b[0;36m500\u001b[0m \u001b[0;34m)\u001b[0m\u001b[0;34m\u001b[0m\u001b[0;34m\u001b[0m\u001b[0m\n\u001b[1;32m    178\u001b[0m             \u001b[0mmy_opts\u001b[0m\u001b[0;34m=\u001b[0m\u001b[0;34m{\u001b[0m\u001b[0;34m\"epsabs\"\u001b[0m\u001b[0;34m:\u001b[0m \u001b[0;36m0.00\u001b[0m\u001b[0;34m,\u001b[0m \u001b[0;34m\"epsrel\"\u001b[0m \u001b[0;34m:\u001b[0m \u001b[0;36m1e-2\u001b[0m\u001b[0;34m,\u001b[0m \u001b[0;34m\"limit\"\u001b[0m \u001b[0;34m:\u001b[0m \u001b[0;36m300\u001b[0m\u001b[0;34m}\u001b[0m\u001b[0;34m\u001b[0m\u001b[0;34m\u001b[0m\u001b[0m\n\u001b[0;32m--> 179\u001b[0;31m             \u001b[0;32mreturn\u001b[0m \u001b[0mntot\u001b[0m\u001b[0;34m*\u001b[0m\u001b[0meps\u001b[0m\u001b[0;34m*\u001b[0m\u001b[0mintegrate\u001b[0m\u001b[0;34m.\u001b[0m\u001b[0mnquad\u001b[0m\u001b[0;34m(\u001b[0m \u001b[0;32mlambda\u001b[0m \u001b[0mEnu\u001b[0m\u001b[0;34m,\u001b[0m\u001b[0mEr\u001b[0m\u001b[0;34m:\u001b[0m \u001b[0msigma_diff_CEnuNS\u001b[0m\u001b[0;34m(\u001b[0m\u001b[0mEnu\u001b[0m\u001b[0;34m,\u001b[0m \u001b[0mEr\u001b[0m\u001b[0;34m,\u001b[0m \u001b[0mA\u001b[0m\u001b[0;34m,\u001b[0m \u001b[0mZ\u001b[0m\u001b[0;34m,\u001b[0m \u001b[0mmT\u001b[0m\u001b[0;34m)\u001b[0m\u001b[0;34m*\u001b[0m\u001b[0mfluxint\u001b[0m\u001b[0;34m(\u001b[0m\u001b[0mEnu\u001b[0m\u001b[0;34m)\u001b[0m\u001b[0;34m*\u001b[0m\u001b[0mnp\u001b[0m\u001b[0;34m.\u001b[0m\u001b[0mheaviside\u001b[0m\u001b[0;34m(\u001b[0m\u001b[0mE_r_max\u001b[0m\u001b[0;34m(\u001b[0m\u001b[0mEnu\u001b[0m\u001b[0;34m,\u001b[0m \u001b[0mmT\u001b[0m\u001b[0;34m)\u001b[0m\u001b[0;34m-\u001b[0m\u001b[0mEr\u001b[0m\u001b[0;34m,\u001b[0m \u001b[0;36m0.\u001b[0m\u001b[0;34m)\u001b[0m\u001b[0;34m*\u001b[0m\u001b[0mgauss_prof\u001b[0m\u001b[0;34m(\u001b[0m\u001b[0mres\u001b[0m\u001b[0;34m,\u001b[0m\u001b[0mEr\u001b[0m\u001b[0;34m,\u001b[0m \u001b[0mE_o\u001b[0m\u001b[0;34m)\u001b[0m\u001b[0;34m,\u001b[0m \u001b[0;34m[\u001b[0m \u001b[0;34m[\u001b[0m\u001b[0mmin\u001b[0m\u001b[0;34m(\u001b[0m\u001b[0mEnuvec\u001b[0m\u001b[0;34m)\u001b[0m\u001b[0;34m,\u001b[0m\u001b[0mmax\u001b[0m\u001b[0;34m(\u001b[0m\u001b[0mEnuvec\u001b[0m\u001b[0;34m)\u001b[0m\u001b[0;34m]\u001b[0m \u001b[0;34m,\u001b[0m\u001b[0;34m[\u001b[0m\u001b[0mmin\u001b[0m\u001b[0;34m(\u001b[0m\u001b[0mE_r\u001b[0m\u001b[0;34m)\u001b[0m\u001b[0;34m,\u001b[0m\u001b[0mmax\u001b[0m\u001b[0;34m(\u001b[0m\u001b[0mE_r\u001b[0m\u001b[0;34m)\u001b[0m\u001b[0;34m]\u001b[0m \u001b[0;34m]\u001b[0m\u001b[0;34m,\u001b[0m\u001b[0mopts\u001b[0m\u001b[0;34m=\u001b[0m\u001b[0mmy_opts\u001b[0m\u001b[0;34m)\u001b[0m\u001b[0;34m[\u001b[0m\u001b[0;36m0\u001b[0m\u001b[0;34m]\u001b[0m\u001b[0;34m\u001b[0m\u001b[0;34m\u001b[0m\u001b[0m\n\u001b[0m\u001b[1;32m    180\u001b[0m \u001b[0;34m\u001b[0m\u001b[0m\n\u001b[1;32m    181\u001b[0m         \u001b[0;32melse\u001b[0m\u001b[0;34m:\u001b[0m\u001b[0;34m\u001b[0m\u001b[0;34m\u001b[0m\u001b[0m\n",
      "\u001b[0;31mValueError\u001b[0m: The truth value of an array with more than one element is ambiguous. Use a.any() or a.all()"
     ]
    },
    {
     "data": {
      "image/png": "[encoded data removed]",
      "text/plain": [
       "<Figure size 648x432 with 1 Axes>"
      ]
     },
     "metadata": {
      "needs_background": "light"
     },
     "output_type": "display_data"
    }
   ],
   "source": [
    "#Mpbhs = np.array([1.e15, 2.e15, 4.e15, 6.e15, 8.e15])\n",
    "Mpbhs = np.logspace(np.log10(8.e14), np.log10(1.e16), 15)\n",
    "fpbhs = np.logspace(-6, 0, 20)\n",
    "\n",
    "plot_pbh_bounds(Mpbhs, fpbhs, is_DM=1)"
   ]
  },
  {
   "cell_type": "markdown",
   "metadata": {},
   "source": [
    "## Compute bounds on the primordial abundance of evaporated PBHs"
   ]
  },
  {
   "cell_type": "code",
   "execution_count": null,
   "metadata": {},
   "outputs": [],
   "source": [
    "#Mpbhs = np.array([1.e12, 1.e13, 1.e14, 1.e15])\n",
    "Mpbhs = np.logspace(np.log10(1.e12), np.log10(7.e14), 15)\n",
    "betas = np.logspace(-24, -15, 20)\n",
    "\n",
    "plot_pbh_bounds(Mpbhs, betas, is_DM=0)"
   ]
  },
  {
   "cell_type": "code",
   "execution_count": null,
   "metadata": {},
   "outputs": [],
   "source": [
    "\"\"\"Mpbhs = np.logspace(np.log10(1.e10), np.log10(5.e14), 15)\n",
    "plt.loglog(Mpbhs, boundgamma_evap(Mpbhs), color=\"r\", linestyle=\"--\", lw=4, label=r\"$\\gamma$ rays\")\n",
    "plt.loglog(Mpbhs, boundcmb_ani(Mpbhs), color=\"b\", linestyle=\"--\", lw=4, label=r\"CMB\")\n",
    "plt.loglog(Mpbhs, boundBBN(Mpbhs), color=\"g\", linestyle=\"--\", lw=4, label=r\"BBN\")\n",
    "plt.loglog(Mpbhs, np.max([boundBBN(Mpbhs),boundgamma_evap(Mpbhs)],axis=0), color=\"k\", linestyle=\"--\")\n",
    "plt.legend()\"\"\""
   ]
  }
 ],
 "metadata": {
  "kernelspec": {
   "display_name": "Python 3",
   "language": "python",
   "name": "python3"
  },
  "language_info": {
   "codemirror_mode": {
    "name": "ipython",
    "version": 3
   },
   "file_extension": ".py",
   "mimetype": "text/x-python",
   "name": "python",
   "nbconvert_exporter": "python",
   "pygments_lexer": "ipython3",
   "version": "3.8.3"
  }
 },
 "nbformat": 4,
 "nbformat_minor": 4
}
