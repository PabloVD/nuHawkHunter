{
 "cells": [
  {
   "cell_type": "markdown",
   "metadata": {},
   "source": [
    "# Constraints on the PBH abundance\n",
    "\n",
    "Compute the forecasted bounds on the PBH abundance for several future experiments"
   ]
  },
  {
   "cell_type": "code",
   "execution_count": 1,
   "metadata": {},
   "outputs": [],
   "source": [
    "from Source.chi2 import *\n",
    "\n",
    "# Bounds on the PBH abundance from other probes (write elsewhere, and check if it is at 90 CL)\n",
    "\n",
    "# Gamma ray PBH bound, for f_pbh, from Carr et al 2020\n",
    "def boundgamma_DM(M):\n",
    "    ep = 0.2\n",
    "    return 2.e-8*(M/5e14)**(3+ep)\n",
    "\n",
    "# Gamma ray PBH bound, for beta', from Carr et al 2020\n",
    "def boundgamma_evap(M):\n",
    "    ep = 0.2\n",
    "    return 3.e-27*(M/5e14)**(-5./2.-2.*ep)\n",
    "\n",
    "# Bound from CMB anisotropies, for beta', from Carr et al 2020\n",
    "def boundcmb_ani(M):\n",
    "    if M>=2.5e13 and M<= 2.4e14:\n",
    "        return 3.e-30*(M/1e13)**(3.1)\n",
    "    else:\n",
    "        return None\n",
    "\n",
    "boundcmb_ani = np.vectorize(boundcmb_ani)\n",
    "\n",
    "# Bound from BBN, for beta', from Carr et al 2020\n",
    "mBBN, betaBBN = np.loadtxt(\"data/BBNbounds.txt\", unpack=True, delimiter=\";\")\n",
    "logboundBBN = interp1d(np.log10(mBBN), np.log10(betaBBN), fill_value=\"extrapolate\")\n",
    "boundBBN = lambda logM: 10.**(logboundBBN(np.log10(logM)))\n",
    "\n",
    "def plot_pbh_bounds(Mpbhs, fpbhs, is_DM, mass_spec = 0, sig = 0):\n",
    "\n",
    "    exps = [\"HK\", \"JUNO\", \"DUNE\", \"DARWIN\", \"ARGO\"]\n",
    "    cols = [\"r\", \"orange\", \"g\", \"yellow\", \"cyan\"]\n",
    "\n",
    "    #exps = [\"HK\", \"JUNO\", \"DUNE\"]\n",
    "    #cols = [\"r\", \"orange\", \"g\"]\n",
    "\n",
    "    # Compute fluxes (comment if already computed)\n",
    "    #compute_flux(Mpbhs, is_DM, mass_spec, sig)  # fpbhs not used here actually\n",
    "\n",
    "    fig, ax = plt.subplots(figsize=(9,6))\n",
    "\n",
    "    # Compute the bound for each experiment considered\n",
    "    for ie, exp in enumerate(exps):\n",
    "        print(exp)\n",
    "\n",
    "        # Compute event rate\n",
    "        compute_events(Mpbhs, fpbhs, exp, is_DM, mass_spec, sig)  # fpbhs not used here actually\n",
    "\n",
    "        fpbh_bounds = pbh_bounds_chi2(Mpbhs, fpbhs, exp, is_DM, mass_spec, sig)\n",
    "        \n",
    "        if is_DM:\n",
    "            plt.plot(Mpbhs, fpbh_bounds, color=cols[ie],linestyle='-',linewidth=3, label=exps[ie])\n",
    "        else:\n",
    "            plt.plot(Mpbhs, fpbh_bounds, color=cols[ie],linestyle='-',linewidth=3, label=exps[ie])\n",
    "       \n",
    "    if is_DM:\n",
    "        \n",
    "        # SK bound, from complete analysis\n",
    "        mSK, foo1, boundSK = np.loadtxt(\"data/SignalCLSK_mc_DM.dat\", unpack=True)\n",
    "        plt.plot(mSK, boundSK, color=\"b\", linestyle=\"--\", lw=4, label=r\"SK\")\n",
    "\n",
    "        # EGRB bound\n",
    "        plt.plot(Mpbhs, boundgamma_DM(Mpbhs), color=\"m\", linestyle=\"--\", lw=4, label=r\"$\\gamma$ rays\")\n",
    "        \n",
    "    else:\n",
    "        \n",
    "        # SK bound, from complete analysis\n",
    "        mSK, foo1, boundSK = np.loadtxt(\"data/SignalCLSK_mc_evap.dat\", unpack=True)\n",
    "        plt.plot(mSK, boundSK, color=\"b\", linestyle=\"--\", lw=4, label=r\"SK\")\n",
    "        \n",
    "        # EGRB + BBN bounds\n",
    "        plt.plot(Mpbhs, np.min([boundBBN(Mpbhs),boundgamma_evap(Mpbhs)],axis=0), color=\"m\", linestyle=\"--\", lw=4, label=r\"$\\gamma$ rays + BBN\")\n",
    "\n",
    "        \n",
    "    if is_DM:\n",
    "        plt.ylabel(r'$  f_{\\rm PBH} $')\n",
    "        plt.xlabel(r'$ M_{\\rm PBH} $'+' [g]')\n",
    "        plt.xlim(Mpbhs[0], Mpbhs[-1])\n",
    "        plt.xscale(\"log\")\n",
    "        sufix = \"DM\"\n",
    "        #plt.xscale(\"log\")\n",
    "    else:\n",
    "        plt.ylabel(r\"$  \\beta' $\")\n",
    "        plt.xlabel(r'$ M_{\\rm PBH} $'+' [g]')\n",
    "        plt.xlim(Mpbhs[0], Mpbhs[-1])\n",
    "        sufix = \"evaporated\"\n",
    "        plt.xscale(\"log\")\n",
    "        \n",
    "    if mass_spec==0:\n",
    "        sufix += \"_mc\"\n",
    "    elif mass_spec==1:\n",
    "        sufix += \"_ln_sig_{:.1e}\".format(sig)\n",
    "\n",
    "    plt.legend()#loc='lower right',frameon=False)\n",
    "    plt.ylim(fpbhs[0], fpbhs[-1])\n",
    "    plt.yscale(\"log\")\n",
    "    plt.tick_params(axis='both', which='both', top=True, right=True, direction=\"in\")\n",
    "    plt.grid(which=\"major\",linestyle=\":\",linewidth=1)\n",
    "\n",
    "    plt.tight_layout()\n",
    "    plt.savefig(\"figures/PBH_bounds_\"+sufix+\".png\", bbox_inches='tight', dpi=300)\n",
    "    plt.show()\n"
   ]
  },
  {
   "cell_type": "markdown",
   "metadata": {},
   "source": [
    "## Compute bounds on the abundance of PBHs as Dark Matter"
   ]
  },
  {
   "cell_type": "code",
   "execution_count": null,
   "metadata": {},
   "outputs": [
    {
     "name": "stdout",
     "output_type": "stream",
     "text": [
      "HK\n"
     ]
    },
    {
     "name": "stderr",
     "output_type": "stream",
     "text": [
      "/usr/local/lib/python3.8/site-packages/scipy/optimize/minpack.py:175: RuntimeWarning: The iteration is not making good progress, as measured by the \n",
      "  improvement from the last ten iterations.\n",
      "  warnings.warn(msg, RuntimeWarning)\n"
     ]
    },
    {
     "name": "stdout",
     "output_type": "stream",
     "text": [
      "JUNO\n"
     ]
    },
    {
     "name": "stderr",
     "output_type": "stream",
     "text": [
      "/usr/local/lib/python3.8/site-packages/scipy/optimize/minpack.py:175: RuntimeWarning: The iteration is not making good progress, as measured by the \n",
      "  improvement from the last ten iterations.\n",
      "  warnings.warn(msg, RuntimeWarning)\n"
     ]
    },
    {
     "name": "stdout",
     "output_type": "stream",
     "text": [
      "DUNE\n"
     ]
    },
    {
     "name": "stderr",
     "output_type": "stream",
     "text": [
      "/usr/local/lib/python3.8/site-packages/scipy/optimize/minpack.py:175: RuntimeWarning: The iteration is not making good progress, as measured by the \n",
      "  improvement from the last ten iterations.\n",
      "  warnings.warn(msg, RuntimeWarning)\n"
     ]
    },
    {
     "name": "stdout",
     "output_type": "stream",
     "text": [
      "DARWIN\n"
     ]
    }
   ],
   "source": [
    "#Mpbhs = np.array([1.e15, 2.e15, 4.e15, 6.e15, 8.e15])\n",
    "Mpbhs = np.logspace(np.log10(8.e14), np.log10(1.e16), 15)\n",
    "fpbhs = np.logspace(-6, 0, 20)\n",
    "\n",
    "plot_pbh_bounds(Mpbhs, fpbhs, is_DM=1)"
   ]
  },
  {
   "cell_type": "markdown",
   "metadata": {},
   "source": [
    "## Compute bounds on the primordial abundance of evaporated PBHs"
   ]
  },
  {
   "cell_type": "code",
   "execution_count": null,
   "metadata": {},
   "outputs": [],
   "source": [
    "#Mpbhs = np.array([1.e12, 1.e13, 1.e14, 1.e15])\n",
    "Mpbhs = np.logspace(np.log10(1.e12), np.log10(7.e14), 15)\n",
    "betas = np.logspace(-24, -15, 20)\n",
    "\n",
    "plot_pbh_bounds(Mpbhs, betas, is_DM=0)"
   ]
  },
  {
   "cell_type": "code",
   "execution_count": null,
   "metadata": {},
   "outputs": [],
   "source": [
    "\"\"\"Mpbhs = np.logspace(np.log10(1.e10), np.log10(5.e14), 15)\n",
    "plt.loglog(Mpbhs, boundgamma_evap(Mpbhs), color=\"r\", linestyle=\"--\", lw=4, label=r\"$\\gamma$ rays\")\n",
    "plt.loglog(Mpbhs, boundcmb_ani(Mpbhs), color=\"b\", linestyle=\"--\", lw=4, label=r\"CMB\")\n",
    "plt.loglog(Mpbhs, boundBBN(Mpbhs), color=\"g\", linestyle=\"--\", lw=4, label=r\"BBN\")\n",
    "plt.loglog(Mpbhs, np.max([boundBBN(Mpbhs),boundgamma_evap(Mpbhs)],axis=0), color=\"k\", linestyle=\"--\")\n",
    "plt.legend()\"\"\""
   ]
  }
 ],
 "metadata": {
  "kernelspec": {
   "display_name": "Python 3",
   "language": "python",
   "name": "python3"
  },
  "language_info": {
   "codemirror_mode": {
    "name": "ipython",
    "version": 3
   },
   "file_extension": ".py",
   "mimetype": "text/x-python",
   "name": "python",
   "nbconvert_exporter": "python",
   "pygments_lexer": "ipython3",
   "version": "3.8.3"
  }
 },
 "nbformat": 4,
 "nbformat_minor": 4
}
